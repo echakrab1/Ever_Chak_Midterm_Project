{
 "cells": [
  {
   "cell_type": "code",
   "execution_count": null,
   "id": "733cf2ac",
   "metadata": {},
   "outputs": [],
   "source": [
    "import random as rand\n",
    "\n",
    "answer1 = 1\n",
    "answer2 = 'n' and 'N'\n",
    "answer3 = int()\n",
    "user_answer = ''\n",
    "comp_answer = ''\n",
    "\n",
    "\n",
    "while answer2 != 'n' and 'N' :\n",
    "    answer1 = int(input(\"Please pick 1 for rock, 2 for paper, or 3 for scissors. : \"))\n",
    "    if answer1 == 1 :\n",
    "        user_answer = 'rock'\n",
    "    elif answer1 == 2 :\n",
    "        user_answer = 'paper'\n",
    "    elif answer1 == 3 :\n",
    "        user_answer = 'scissors'\n",
    "        \n",
    "    print(f\"User's answer is: {user_answer}.\")\n",
    "        \n",
    "    \n",
    "    \n",
    "    while answer3 == answer1 :\n",
    "        answer3 = rand.randint(1,3)\n",
    "    \n",
    "    if answer3 == 1 :\n",
    "        comp_answer = 'rock'\n",
    "    elif answer3 == 2 :\n",
    "        comp_answer = 'paper'\n",
    "    elif answer3 == 3  :\n",
    "        comp_answer = 'scissors'\n",
    "   \n",
    "    print(f\"Computer's answer is: {comp_answer}.\")\n",
    "    \n",
    "\n"
   ]
  },
  {
   "cell_type": "code",
   "execution_count": null,
   "id": "be44f03a",
   "metadata": {},
   "outputs": [],
   "source": []
  }
 ],
 "metadata": {
  "kernelspec": {
   "display_name": "Python 3 (ipykernel)",
   "language": "python",
   "name": "python3"
  },
  "language_info": {
   "codemirror_mode": {
    "name": "ipython",
    "version": 3
   },
   "file_extension": ".py",
   "mimetype": "text/x-python",
   "name": "python",
   "nbconvert_exporter": "python",
   "pygments_lexer": "ipython3",
   "version": "3.9.12"
  }
 },
 "nbformat": 4,
 "nbformat_minor": 5
}
